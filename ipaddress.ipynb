{
 "cells": [
  {
   "cell_type": "code",
   "execution_count": 1,
   "metadata": {
    "collapsed": false,
    "deletable": true,
    "editable": true
   },
   "outputs": [],
   "source": [
    "from __future__ import print_function\n",
    "\n",
    "from ipaddress import (\n",
    "    AddressValueError,\n",
    "    ip_address,\n",
    "    IPv4Address,\n",
    "    IPv6Address,\n",
    "    ip_network,\n",
    "    IPv4Network,\n",
    "    IPv6Network,\n",
    ")\n",
    "import six"
   ]
  },
  {
   "cell_type": "code",
   "execution_count": 2,
   "metadata": {
    "collapsed": true,
    "deletable": true,
    "editable": true
   },
   "outputs": [],
   "source": [
    "def print_address(address):\n",
    "    print(\"protocol version: {}\".format(address.version))\n",
    "    print(\"address: {}\".format(address))\n",
    "    print(\"exploded: {}\".format(address.exploded))\n",
    "    print(\"to int: {}\".format(int(address)))"
   ]
  },
  {
   "cell_type": "code",
   "execution_count": 3,
   "metadata": {
    "collapsed": false,
    "deletable": true,
    "editable": true
   },
   "outputs": [],
   "source": [
    "def print_network(network):\n",
    "    print(\"protocol version: {}\".format(network.version))\n",
    "    print(\"compressed: {}\".format(network.compressed))\n",
    "    print(\"exploded: {}\".format(network.exploded))"
   ]
  },
  {
   "cell_type": "code",
   "execution_count": 4,
   "metadata": {
    "collapsed": true,
    "deletable": true,
    "editable": true
   },
   "outputs": [],
   "source": [
    "# ip_address --------------------"
   ]
  },
  {
   "cell_type": "code",
   "execution_count": 5,
   "metadata": {
    "collapsed": false,
    "deletable": true,
    "editable": true
   },
   "outputs": [
    {
     "name": "stdout",
     "output_type": "stream",
     "text": [
      "protocol version: 4\n",
      "address: 0.0.0.0\n",
      "exploded: 0.0.0.0\n",
      "to int: 0\n"
     ]
    }
   ],
   "source": [
    "print_address(ip_address(six.text_type(\"0.0.0.0\")))"
   ]
  },
  {
   "cell_type": "code",
   "execution_count": 6,
   "metadata": {
    "collapsed": false,
    "deletable": true,
    "editable": true
   },
   "outputs": [
    {
     "name": "stdout",
     "output_type": "stream",
     "text": [
      "protocol version: 4\n",
      "address: 127.0.0.1\n",
      "exploded: 127.0.0.1\n",
      "to int: 2130706433\n"
     ]
    }
   ],
   "source": [
    "print_address(ip_address(six.text_type(\"127.0.0.1\")))"
   ]
  },
  {
   "cell_type": "code",
   "execution_count": 7,
   "metadata": {
    "collapsed": false,
    "deletable": true,
    "editable": true
   },
   "outputs": [
    {
     "name": "stdout",
     "output_type": "stream",
     "text": [
      "protocol version: 4\n",
      "address: 192.168.0.1\n",
      "exploded: 192.168.0.1\n",
      "to int: 3232235521\n"
     ]
    }
   ],
   "source": [
    "# from int\n",
    "print_address(ip_address(3232235521))"
   ]
  },
  {
   "cell_type": "code",
   "execution_count": 8,
   "metadata": {
    "collapsed": false,
    "deletable": true,
    "editable": true
   },
   "outputs": [
    {
     "name": "stdout",
     "output_type": "stream",
     "text": [
      "protocol version: 6\n",
      "address: 2001:db8::1000\n",
      "exploded: 2001:0db8:0000:0000:0000:0000:0000:1000\n",
      "to int: 42540766411282592856903984951653830656\n"
     ]
    }
   ],
   "source": [
    "# from int\n",
    "print_address(ip_address(42540766411282592856903984951653830656))"
   ]
  },
  {
   "cell_type": "code",
   "execution_count": 9,
   "metadata": {
    "collapsed": false,
    "deletable": true,
    "editable": true
   },
   "outputs": [
    {
     "name": "stdout",
     "output_type": "stream",
     "text": [
      "u'192.168.0.1/24' does not appear to be an IPv4 or IPv6 address\n"
     ]
    }
   ],
   "source": [
    "try:\n",
    "    ip_address(six.text_type(\"192.168.0.1/24\"))\n",
    "except ValueError as e:\n",
    "    print(e)"
   ]
  },
  {
   "cell_type": "code",
   "execution_count": 10,
   "metadata": {
    "collapsed": false,
    "deletable": true,
    "editable": true
   },
   "outputs": [
    {
     "name": "stdout",
     "output_type": "stream",
     "text": [
      "u'' does not appear to be an IPv4 or IPv6 address\n"
     ]
    }
   ],
   "source": [
    "try:\n",
    "    ip_address(six.text_type(\"\"))\n",
    "except ValueError as e:\n",
    "    print(e)"
   ]
  },
  {
   "cell_type": "code",
   "execution_count": 11,
   "metadata": {
    "collapsed": false,
    "deletable": true,
    "editable": true
   },
   "outputs": [
    {
     "name": "stdout",
     "output_type": "stream",
     "text": [
      "None does not appear to be an IPv4 or IPv6 address\n"
     ]
    }
   ],
   "source": [
    "try:\n",
    "    ip_address(None)\n",
    "except ValueError as e:\n",
    "    print(e)"
   ]
  },
  {
   "cell_type": "code",
   "execution_count": 12,
   "metadata": {
    "collapsed": true,
    "deletable": true,
    "editable": true
   },
   "outputs": [],
   "source": [
    "# IPv4Address --------------------"
   ]
  },
  {
   "cell_type": "code",
   "execution_count": 13,
   "metadata": {
    "collapsed": false,
    "deletable": true,
    "editable": true
   },
   "outputs": [
    {
     "name": "stdout",
     "output_type": "stream",
     "text": [
      "protocol version: 4\n",
      "address: 127.0.0.1\n",
      "exploded: 127.0.0.1\n",
      "to int: 2130706433\n"
     ]
    }
   ],
   "source": [
    "print_address(IPv4Address(six.text_type(\"127.0.0.1\")))"
   ]
  },
  {
   "cell_type": "code",
   "execution_count": 14,
   "metadata": {
    "collapsed": false,
    "deletable": true,
    "editable": true
   },
   "outputs": [
    {
     "name": "stdout",
     "output_type": "stream",
     "text": [
      "protocol version: 4\n",
      "address: 192.168.0.1\n",
      "exploded: 192.168.0.1\n",
      "to int: 3232235521\n"
     ]
    }
   ],
   "source": [
    "# from int\n",
    "print_address(IPv4Address(3232235521))"
   ]
  },
  {
   "cell_type": "code",
   "execution_count": 15,
   "metadata": {
    "collapsed": false,
    "deletable": true,
    "editable": true
   },
   "outputs": [
    {
     "name": "stdout",
     "output_type": "stream",
     "text": [
      "protocol version: 4\n",
      "address: 192.168.0.1\n",
      "exploded: 192.168.0.1\n",
      "to int: 3232235521\n"
     ]
    }
   ],
   "source": [
    "# from int\n",
    "print_address(IPv4Address((192 * 2 ** 24) + (168 * 2 ** 16) + (0 * 2 ** 8)  + 1))"
   ]
  },
  {
   "cell_type": "code",
   "execution_count": 16,
   "metadata": {
    "collapsed": false,
    "deletable": true,
    "editable": true
   },
   "outputs": [
    {
     "name": "stdout",
     "output_type": "stream",
     "text": [
      "Expected 4 octets in u'::1'\n"
     ]
    }
   ],
   "source": [
    "try:\n",
    "    IPv4Address(six.text_type(\"::1\"))\n",
    "except AddressValueError as e:\n",
    "    print(e)"
   ]
  },
  {
   "cell_type": "code",
   "execution_count": 17,
   "metadata": {
    "collapsed": false,
    "deletable": true,
    "editable": true
   },
   "outputs": [
    {
     "name": "stdout",
     "output_type": "stream",
     "text": [
      "Unexpected '/' in u'192.168.0.1/24'\n"
     ]
    }
   ],
   "source": [
    "try:\n",
    "    IPv4Address(six.text_type(\"192.168.0.1/24\"))\n",
    "except AddressValueError as e:\n",
    "    print(e)"
   ]
  },
  {
   "cell_type": "code",
   "execution_count": 18,
   "metadata": {
    "collapsed": false,
    "deletable": true,
    "editable": true
   },
   "outputs": [
    {
     "name": "stdout",
     "output_type": "stream",
     "text": [
      "Address cannot be empty\n"
     ]
    }
   ],
   "source": [
    "try:\n",
    "    IPv4Address(six.text_type(\"\"))\n",
    "except AddressValueError as e:\n",
    "    print(e)"
   ]
  },
  {
   "cell_type": "code",
   "execution_count": 19,
   "metadata": {
    "collapsed": false,
    "deletable": true,
    "editable": true
   },
   "outputs": [
    {
     "name": "stdout",
     "output_type": "stream",
     "text": [
      "Expected 4 octets in u'None'\n"
     ]
    }
   ],
   "source": [
    "try:\n",
    "    IPv4Address(None)\n",
    "except AddressValueError as e:\n",
    "    print(e)"
   ]
  },
  {
   "cell_type": "code",
   "execution_count": 20,
   "metadata": {
    "collapsed": true,
    "deletable": true,
    "editable": true
   },
   "outputs": [],
   "source": [
    "# IPv6Address --------------------"
   ]
  },
  {
   "cell_type": "code",
   "execution_count": 21,
   "metadata": {
    "collapsed": false,
    "deletable": true,
    "editable": true
   },
   "outputs": [
    {
     "name": "stdout",
     "output_type": "stream",
     "text": [
      "protocol version: 6\n",
      "address: 2001:db8::1000\n",
      "exploded: 2001:0db8:0000:0000:0000:0000:0000:1000\n",
      "to int: 42540766411282592856903984951653830656\n"
     ]
    }
   ],
   "source": [
    "print_address(IPv6Address(six.text_type(\"2001:db8::1000\")))"
   ]
  },
  {
   "cell_type": "code",
   "execution_count": 22,
   "metadata": {
    "collapsed": false,
    "deletable": true,
    "editable": true
   },
   "outputs": [
    {
     "name": "stdout",
     "output_type": "stream",
     "text": [
      "protocol version: 6\n",
      "address: 2001:db8::1000\n",
      "exploded: 2001:0db8:0000:0000:0000:0000:0000:1000\n",
      "to int: 42540766411282592856903984951653830656\n"
     ]
    }
   ],
   "source": [
    "# from int\n",
    "print_address(IPv6Address(42540766411282592856903984951653830656))"
   ]
  },
  {
   "cell_type": "code",
   "execution_count": 23,
   "metadata": {
    "collapsed": false,
    "deletable": true,
    "editable": true
   },
   "outputs": [
    {
     "name": "stdout",
     "output_type": "stream",
     "text": [
      "At least 3 parts expected in u'127.0.0.1'\n"
     ]
    }
   ],
   "source": [
    "try:\n",
    "    IPv6Address(six.text_type(\"127.0.0.1\"))\n",
    "except AddressValueError as e:\n",
    "    print(e)"
   ]
  },
  {
   "cell_type": "code",
   "execution_count": 24,
   "metadata": {
    "collapsed": false,
    "deletable": true,
    "editable": true
   },
   "outputs": [
    {
     "name": "stdout",
     "output_type": "stream",
     "text": [
      "Address cannot be empty\n"
     ]
    }
   ],
   "source": [
    "try:\n",
    "    IPv6Address(six.text_type(\"\"))\n",
    "except AddressValueError as e:\n",
    "    print(e)"
   ]
  },
  {
   "cell_type": "code",
   "execution_count": 25,
   "metadata": {
    "collapsed": false,
    "deletable": true,
    "editable": true
   },
   "outputs": [
    {
     "name": "stdout",
     "output_type": "stream",
     "text": [
      "At least 3 parts expected in u'None'\n"
     ]
    }
   ],
   "source": [
    "try:\n",
    "    IPv6Address(None)\n",
    "except AddressValueError as e:\n",
    "    print(e)"
   ]
  },
  {
   "cell_type": "code",
   "execution_count": 26,
   "metadata": {
    "collapsed": true,
    "deletable": true,
    "editable": true
   },
   "outputs": [],
   "source": [
    "# ip_address --------------------"
   ]
  },
  {
   "cell_type": "code",
   "execution_count": 27,
   "metadata": {
    "collapsed": false,
    "deletable": true,
    "editable": true
   },
   "outputs": [
    {
     "name": "stdout",
     "output_type": "stream",
     "text": [
      "protocol version: 4\n",
      "compressed: 192.168.0.0/24\n",
      "exploded: 192.168.0.0/24\n"
     ]
    }
   ],
   "source": [
    "print_network(ip_network(six.text_type(\"192.168.0.0/24\")))"
   ]
  },
  {
   "cell_type": "code",
   "execution_count": 28,
   "metadata": {
    "collapsed": false,
    "deletable": true,
    "editable": true
   },
   "outputs": [
    {
     "name": "stdout",
     "output_type": "stream",
     "text": [
      "protocol version: 6\n",
      "compressed: 2001:db00::/24\n",
      "exploded: 2001:db00:0000:0000:0000:0000:0000:0000/24\n"
     ]
    }
   ],
   "source": [
    "print_network(ip_network(six.text_type(\"2001:db00::0/24\")))"
   ]
  },
  {
   "cell_type": "code",
   "execution_count": 29,
   "metadata": {
    "collapsed": false,
    "deletable": true,
    "editable": true
   },
   "outputs": [
    {
     "name": "stdout",
     "output_type": "stream",
     "text": [
      "protocol version: 4\n",
      "compressed: 192.168.0.1/32\n",
      "exploded: 192.168.0.1/32\n"
     ]
    }
   ],
   "source": [
    "print_network(ip_network(six.text_type(\"192.168.0.1\")))"
   ]
  },
  {
   "cell_type": "code",
   "execution_count": 30,
   "metadata": {
    "collapsed": false,
    "deletable": true,
    "editable": true
   },
   "outputs": [
    {
     "name": "stdout",
     "output_type": "stream",
     "text": [
      "protocol version: 6\n",
      "compressed: 2001:db00::1/128\n",
      "exploded: 2001:db00:0000:0000:0000:0000:0000:0001/128\n"
     ]
    }
   ],
   "source": [
    "print_network(ip_network(six.text_type(\"2001:db00::1\")))"
   ]
  },
  {
   "cell_type": "code",
   "execution_count": 31,
   "metadata": {
    "collapsed": false,
    "deletable": true,
    "editable": true
   },
   "outputs": [
    {
     "name": "stdout",
     "output_type": "stream",
     "text": [
      "192.168.0.0\n",
      "192.168.0.1\n",
      "192.168.0.2\n",
      "192.168.0.3\n"
     ]
    }
   ],
   "source": [
    "for address in ip_network(six.text_type(\"192.168.0.0/30\")):\n",
    "    print(address)"
   ]
  },
  {
   "cell_type": "code",
   "execution_count": 32,
   "metadata": {
    "collapsed": false,
    "deletable": true,
    "editable": true
   },
   "outputs": [
    {
     "name": "stdout",
     "output_type": "stream",
     "text": [
      "2001:db00::\n",
      "2001:db00::1\n",
      "2001:db00::2\n",
      "2001:db00::3\n"
     ]
    }
   ],
   "source": [
    "for i, address in enumerate(ip_network(six.text_type(\"2001:db00::0/24\"))):\n",
    "    if i >= 4:\n",
    "        break\n",
    "        \n",
    "    print(address)"
   ]
  },
  {
   "cell_type": "code",
   "execution_count": 33,
   "metadata": {
    "collapsed": false,
    "deletable": true,
    "editable": true
   },
   "outputs": [
    {
     "name": "stdout",
     "output_type": "stream",
     "text": [
      "192.168.0.1/24 has host bits set\n"
     ]
    }
   ],
   "source": [
    "try:\n",
    "    ip_network(six.text_type(\"192.168.0.1/24\"))\n",
    "except ValueError as e:\n",
    "    print(e)"
   ]
  },
  {
   "cell_type": "code",
   "execution_count": 34,
   "metadata": {
    "collapsed": false,
    "deletable": true,
    "editable": true
   },
   "outputs": [
    {
     "name": "stdout",
     "output_type": "stream",
     "text": [
      "2001:db00::1/24 has host bits set\n"
     ]
    }
   ],
   "source": [
    "try:\n",
    "    ip_network(six.text_type(\"2001:db00::1/24\"))\n",
    "except ValueError as e:\n",
    "    print(e)"
   ]
  },
  {
   "cell_type": "code",
   "execution_count": 35,
   "metadata": {
    "collapsed": false,
    "deletable": true,
    "editable": true
   },
   "outputs": [
    {
     "name": "stdout",
     "output_type": "stream",
     "text": [
      "u'' does not appear to be an IPv4 or IPv6 network\n"
     ]
    }
   ],
   "source": [
    "try:\n",
    "    ip_network(six.text_type(\"\"))\n",
    "except ValueError as e:\n",
    "    print(e)"
   ]
  },
  {
   "cell_type": "code",
   "execution_count": 36,
   "metadata": {
    "collapsed": false,
    "deletable": true,
    "editable": true
   },
   "outputs": [
    {
     "name": "stdout",
     "output_type": "stream",
     "text": [
      "None does not appear to be an IPv4 or IPv6 network\n"
     ]
    }
   ],
   "source": [
    "try:\n",
    "    ip_network(None)\n",
    "except ValueError as e:\n",
    "    print(e)"
   ]
  },
  {
   "cell_type": "code",
   "execution_count": null,
   "metadata": {
    "collapsed": true
   },
   "outputs": [],
   "source": []
  }
 ],
 "metadata": {
  "kernelspec": {
   "display_name": "Python 2",
   "language": "python",
   "name": "python2"
  },
  "language_info": {
   "codemirror_mode": {
    "name": "ipython",
    "version": 2
   },
   "file_extension": ".py",
   "mimetype": "text/x-python",
   "name": "python",
   "nbconvert_exporter": "python",
   "pygments_lexer": "ipython2",
   "version": "2.7.12"
  }
 },
 "nbformat": 4,
 "nbformat_minor": 2
}
